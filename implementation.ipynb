{
  "cells": [
    {
      "cell_type": "code",
      "execution_count": null,
      "metadata": {
        "colab": {
          "base_uri": "https://localhost:8080/"
        },
        "id": "OhR3NMcEECpJ",
        "outputId": "db250745-3ab0-464d-f4d8-caf88d9bcd9b"
      },
      "outputs": [],
      "source": [
        "# Clone whole github repository with necessary files\n",
        "!git clone https://github.com/stereifberger/logical_derivations_with_transformers\n",
        "!cd /content/logical_derivations_with_transformers"
      ]
    },
    {
      "cell_type": "code",
      "execution_count": 1,
      "metadata": {
        "id": "hTpTZtRIEnAN"
      },
      "outputs": [],
      "source": [
        "# Import libraries\n",
        "import sys\n",
        "sys.path.append('logical_derivations_with_transformers')\n",
        "from imports import *"
      ]
    },
    {
      "cell_type": "code",
      "execution_count": 40,
      "metadata": {},
      "outputs": [
        {
          "data": {
            "text/plain": [
              "<module 'train_test' from '/home/str/logical_derivations_with_transformers/train_test.py'>"
            ]
          },
          "execution_count": 40,
          "metadata": {},
          "output_type": "execute_result"
        }
      ],
      "source": [
        "importlib.reload(train_test)"
      ]
    },
    {
      "cell_type": "code",
      "execution_count": 2,
      "metadata": {
        "id": "z0O6tZPDGsqZ"
      },
      "outputs": [
        {
          "data": {
            "text/plain": [
              "<torch._C.Generator at 0x7f1f1015bbf0>"
            ]
          },
          "execution_count": 2,
          "metadata": {},
          "output_type": "execute_result"
        }
      ],
      "source": [
        "# Set random seed for reproducibility\n",
        "seed(42)\n",
        "torch.manual_seed(42)"
      ]
    },
    {
      "cell_type": "code",
      "execution_count": 3,
      "metadata": {},
      "outputs": [],
      "source": [
        "# Prepare data\n",
        "total_samples = 50000\n",
        "batch_size = 32\n",
        "data_inputs, data_targets, max_input_len, max_target_len = utils.prepare_data(num_samples=total_samples)\n",
        "t_nu = 5\n",
        "vocab_size = t_nu + 11  # Number of symbols including PAD, SOS, EOS\n",
        "\n",
        "# Construct data loader\n",
        "data = list(zip(data_inputs, data_targets))\n",
        "data_loader = DataLoader(data, batch_size=batch_size, shuffle=True, collate_fn=train_test.collate_batch)"
      ]
    },
    {
      "cell_type": "code",
      "execution_count": 22,
      "metadata": {},
      "outputs": [
        {
          "name": "stdout",
          "output_type": "stream",
          "text": [
            "Using CUDA\n"
          ]
        },
        {
          "name": "stderr",
          "output_type": "stream",
          "text": [
            "/home/str/environments/general/lib/python3.10/site-packages/torch/nn/modules/transformer.py:286: UserWarning: enable_nested_tensor is True, but self.use_nested_tensor is False because encoder_layer.self_attn.batch_first was not True(use batch_first for better inference performance)\n",
            "  warnings.warn(f\"enable_nested_tensor is True, but self.use_nested_tensor is False because {why_not_sparsity_fast_path}\")\n"
          ]
        }
      ],
      "source": [
        "# Model parameters\n",
        "input_dim = vocab_size\n",
        "output_dim = vocab_size\n",
        "emb_dim = 256\n",
        "num_heads = 8\n",
        "hidden_dim = 512\n",
        "num_layers = 3\n",
        "dropout = 0.1\n",
        "\n",
        "# Check for avaiable GPU\n",
        "if torch.cuda.is_available():\n",
        "    print(\"Using CUDA\")\n",
        "else:\n",
        "    print(\"Using CPU\")\n",
        "\n",
        "# Initialize the model\n",
        "encoder = architectures.TransformerEncoder(input_dim, emb_dim, num_heads, hidden_dim, num_layers, dropout, max_seq_len=max_input_len)\n",
        "decoder = architectures.TransformerDecoder(output_dim, emb_dim, num_heads, hidden_dim, num_layers, dropout, max_seq_len=max_target_len)\n",
        "model = architectures.Seq2SeqTransformer(encoder, decoder, device).to(device)"
      ]
    },
    {
      "cell_type": "code",
      "execution_count": 27,
      "metadata": {
        "id": "ksPIeTVSS9MR"
      },
      "outputs": [
        {
          "name": "stderr",
          "output_type": "stream",
          "text": [
            "/home/str/environments/general/lib/python3.10/site-packages/torch/nn/functional.py:5109: UserWarning: Support for mismatched key_padding_mask and attn_mask is deprecated. Use same type for both instead.\n",
            "  warnings.warn(\n"
          ]
        },
        {
          "name": "stdout",
          "output_type": "stream",
          "text": [
            "\n",
            "Sample model outputs and corresponding inputs:\n",
            "Input 0: r ⊢ ( t ∨ r ) <EOS>                                                                                                             \n",
            "Output 0: ∧ ∧ ∧ ∧ <SOS>  ∧ ∧ ∧ ∧ ∧ ∧ <SOS> ∧ ⊥ ∧ ∧ ∧ ∧ ∧ ∧ ∧ ∧ ∧ ∧ ∧ ∧ ∧ ∧ ∧ ∧ ∧ ∧ ∧ ∧ ∧ ∧ ∧ ∧ ∧ ∧ ∧ ∧ ∧ ∧ ∧ ∧ ∧ ∧ ∧ ∧ ∧ ∧ ∧ ∧ ∧ ∧ ∧ ∧ ∧ ∧ ∧ ∧ ∧ ∧ ∧ ∧ ∧ ∧ ∧ ∧ ∧ ∧ ∧ ∧ ∧ ∧ ∧ ∧ ∧ ∧ ∧ ∧ ∧ ∧ ∧ ∧ ∧ ∧ ∧ <SOS> ∧ ∧ ∧ ∧ ∧ ∧ ∧ ∧ ∧ ∧ ∧ ∧ ∧ ∧ ∧ ∧ ∧ ∧ ∧ ∧ ∧ ∧ ∧ ∧ ∧ ∧ ∧ ∧ ∧ ∧ ∧ ∧ ∧ ∧ ∧ ∧ ∧ ∧ ∧ ∧ ∧ ∧ ∧ ∧ ∧ ∧ ∧ ∧ ∧ ∧ ∧ ∧ ∧ ∧ ∧ ∧ ∧ ∧ ∧ ∧ ∧ ∧ ∧ ∧ ∧ ∧ ∧ ∧ ∧ ∧\n",
            "\n",
            "Input 1: q ⊢ ( ( q ∨ ( s → p ) ) → q ) <EOS>                                                                                                     \n",
            "Output 1: ∧ ∧ ∧ ∧ ∧ ∧ ∧ ∧ ∧ ∧ ∧ ∧ ∧ ∧ ∧ ∧ ∧ ∧ ∧ <SOS> ∧ ∧ ∧ ∧ ∧ ∨ ∨ ∧ ∨ ∧ ∧ ∧ ∨ ∧ ∧ ∧ ∨ ∧ ∧ ∨ ∨ ∨ ∨ → ∨ ∧ ∧ ∧ ∧ ∧ ∧ ∨ ∨ ∨ ∨ ∨ ∧ ∨ ∨ ∨ ∧ ∨ ∧ ∧ ∨ ∧ ∧ ∧ ∧ ∨ ∨ ∧ ∨ ∨ ∨ ∨ ∨ ∧ ∧ ∨ ∧ ∧ ∨ ∧ ∧ ∧ ∨ ∨ ∨ ∨ ∨ ∨ ∧ ∨ ∨ ∧ ∧ ∨ ∨ ∧ ∧ ∨ ∧ ∨ ∧ ∨ ∧ ∨ ∨ ∧ ∧ ∧ ∧ ∧ ∧ ∧ ∨ ∨ ∨ ∧ ∧ ∧ ∧ ∨ ∧ ∨ ∨ ∨ ∧ ∨ ∨ ∨ ∧ ∧ ∨ ∨ ∧ ∧ ∨ ∧ ∨ ∧ ∨ ∧ ∨ ∧ ∨ ∨ ∨ ∨ ∨ ∨ ∨ ∧ ∨ ∨ ∨ ∨ ∧ ∨ ∨\n",
            "\n",
            "Input 2: ( p → ( r ∨ q ) ) q ⊢ ( ( t ∧ p ) ∨ ( p → ( r ∨ q ) ) ) <EOS>                                                                                        \n",
            "Output 2: ∧ <SOS> ∧ ∧ ∧ → ∧ ∧ ∧ ∧ ∧ ∧ ∧ ∧ ∧ ∧ ∧ <SOS>  <SOS> ∧ ∧ ∧ ∧ <SOS>  ∧ <SOS> ∧ ∧ ∧ ∧ ∧ ⊥ ∧ <SOS> <SOS> <SOS> <SOS> <SOS> ∧ ∨ ∨ ∨ ∨ ∨ ∨ ∨ ∨ ∨ ∨ ∨ ∧ ∨ ∧ ∨ ∧ ∨ ∨ ∨ ∨ ∧ ∧ ∨ ∨ ∧ ∨ ∧ ∨ ∨ ∧ ∨ ∨ ∨ ∨ ∨ ∧ ∨ ∨ ∧ ∨ ∧ ∨ ∧ ∨ ∨ ∨ ∨ ∨ ∨ ∨ ∧ ∨ ∧ ∨ ∧ ∧ ∧ ∨ ∧ ∨ ∨ ∨ ∨ ∨ ∨ ∧ ∨ ∨ ∨ ∨ ∧ ∨ ∨ ∨ ∧ ∨ ∨ ∧ ∨ ∨ ∨ ∨ ∨ ∨ ∨ ∨ ∨ ∨ ∨ ∨ ∧ ∨ ∨ ∨ ∨ ∨ ∨ ∨ ∨ ∨ ∨ ∨ ∧ ∨ ∨ ∧ ∨ ∨ ∨ ∨ ∧ ∨ ∨ ∨ ∨ ∧ ∨ ∨ ∨ ∨\n",
            "\n",
            "Input 3: p ¬ ( ( q ∧ p ) ∧ s ) ⊢ ( p → ( ¬ ( ( q ∧ p ) ∧ s ) → p ) ) <EOS>                                                                                      \n",
            "Output 3: ∧ ∧ ∧ ∧ ∧ ∧ <SOS> ∧ <SOS> ∧ ∧ <SOS> ∧ ∧ ∧ ∧ ∧  ∧ ∧  ∧ <SOS> ∧ ∧ <SOS> ∧ ∧ <EOS> ∧ ∧ ∧ ∧ ∧  ∧ ∧  ∧ ∧ <SOS> ∧ ∧ ∧ <SOS> ∨ ∨ ∨ ∧ ∨ ∧ ∨ ∨ ∧ ∨ ∨ ∨ ∨ ∨ ∨ ∨ ∨ ∧ ∨ ∨ ∨ ∨ ∨ ∧ ∨ ∨ ∨ ∧ ∨ ∨ ∨ ∨ ∨ ∨ ∨ ∨ ∨ ∨ ∨ ∨ ∨ ∨ ∧ ∨ ∧ ∨ ∧ ∨ ∨ ∨ ∨ ∨ ∧ ∧ ∨ <SOS> <SOS> ∨ ∨ <SOS> ∨ ∨ ∨ ∨ ∧ ∨ ∨ ∨ ∨ ∨ ∧ ∨ ∧ ∨ ∨ ∨ ∨ ∨ ∧ ∨ ∨ ∨ ∧ ∨ ∨ ∨ ∨ ∨ ∨ ∨ ∨ ∨ ∧ ∧ ∨ ∧ ∧ ∨ ∨ ∨ ∨ ∨ ∨ ∨ ∨ ∧ ∨ ∨ ∨ ∨ ∨ ∨ ∧ ∨ ∨ ∨\n",
            "\n",
            "Input 4: ( ( r → q ) ∧ s ) ⊢ ( s ∧ ( ( r → q ) ∧ s ) ) <EOS>                                                                                             \n",
            "Output 4: ∧ ∧ ∧ → ∧ <SOS> <SOS> ∧ ∧ ∧ ∧ ∧ ∧  ∧ ∧ → ∧ ∧ <SOS>  ∧ <SOS> ∧ <SOS> ∨ ∨ ∨ ∨ ∨ ∧ ∨ ∨ ∨ ∨ ∨ ∨ ∨ ∨ ∧ ∨ ∨ ∧ ∨ ∨ ∧ ∨ ∨ ∧ ∨ ∨ ∨ ∨ ∨ ∨ ∨ ∨ ∨ ∨ ∨ ∨ ∨ ∨ ∨ ∨ ∧ ∨ ∧ ∨ ∧ ∨ ∨ ∨ ∨ ∧ ∨ ∨ ∨ ∨ ∨ ∨ ∧ ∨ ∨ ∨ ∨ ∨ ∨ ∨ ∨ ∨ ∨ ∨ ∨ ∨ ∨ ∨ ∨ ∨ ∨ ∨ ∨ ∨ ∨ ∨ ∨ <SOS> ∨ ∨ ∨ ∨ ∧ ∨ ∨ ∧ ∨ ∨ ∨ ∧ ∧ ∨ ∨ ∨ ∨ ∨ ∨ ∨ ∧ ∧ ∧ ∨ ∧ ∨ ∨ ∨ ∨ ∧ ∧ ∨ ∨ ∨ ∨ ∨ ∨ ∧ ∧ ∨ ∧ ∨ ∨ ∨ ∧ ∨ ∨ ∨ ∨ ∨ ∧ ∧ ∨ ∨\n",
            "\n",
            "Epoch 1/1, Loss: 0.9010\n"
          ]
        }
      ],
      "source": [
        "# Train the model\n",
        "model = train_test.train_model(model, data_loader, num_epochs=1, learning_rate=1e-4)"
      ]
    },
    {
      "cell_type": "code",
      "execution_count": 47,
      "metadata": {},
      "outputs": [
        {
          "name": "stdout",
          "output_type": "stream",
          "text": [
            "Premises and Conclusion:\n",
            "Premise: t\n",
            "Conclusion: (t ∨ p)\n",
            "\n",
            "Predicted Derivation Steps:\n",
            "t\n"
          ]
        }
      ],
      "source": [
        "# Test the model\n",
        "train_test.test_model(model, data_loader, num_epochs=10, learning_rate=1e-4)"
      ]
    }
  ],
  "metadata": {
    "colab": {
      "authorship_tag": "ABX9TyP+8n0fDlk7eThm8Dmu7jW/",
      "include_colab_link": true,
      "provenance": []
    },
    "kernelspec": {
      "display_name": "Python 3 (ipykernel)",
      "language": "python",
      "name": "python3"
    },
    "language_info": {
      "codemirror_mode": {
        "name": "ipython",
        "version": 3
      },
      "file_extension": ".py",
      "mimetype": "text/x-python",
      "name": "python",
      "nbconvert_exporter": "python",
      "pygments_lexer": "ipython3",
      "version": "3.10.12"
    }
  },
  "nbformat": 4,
  "nbformat_minor": 0
}
